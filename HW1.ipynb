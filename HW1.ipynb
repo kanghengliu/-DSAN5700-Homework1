{
 "cells": [
  {
   "cell_type": "markdown",
   "metadata": {},
   "source": [
    "# DSAN 5700 - Homework 01 - Designing Blockchain\n",
    "## Group 05 members:\n",
    "- Huiting Song\n",
    "- Yilin Yang\n",
    "- Kangheng Liu"
   ]
  },
  {
   "cell_type": "markdown",
   "metadata": {},
   "source": [
    "## 1. Blockchain Data Structure (15 points)\n",
    "\n",
    "Each blockchain starts with a genesis block. We will need to define this block function in object-oriented python. Here are the main Block components we will need:\n",
    "\n",
    "- Index - The index of the block on the chain (zero-indexed).\n",
    "- Timestamp – Time (T) when the block was added to the chain.\n",
    "- data - The data the block contains (Usually points to the root of a Merkel tree, but we can use a common thread for this).\n",
    "- previous_hash - The hash value of the previous block.\n",
    "- hash - Hash of this block computed using the hash_block function.\n",
    "- nonce - The variable value that we change to alter the hash output (Default value = 0, irrelevant in this section).\n",
    "\n",
    "We will need to define two functions in class Object named Block, and the two functions are __init__() (called dunder init) and blockHash(). The init function takes six inputs, including a self, from the list above (#5 above is the output). The blockHash function takes inputs from init in a string form, appends them, and encodes them through a SHA256 function.\n",
    "\n",
    "Import following libraries before developing the function `hashlib`, `random`, `datetime`, `date`, `time`, `ipyparallel`, `numpy`, `matplotlib`. Once done Copy the following code in new cell and run it. If you get valid block prompt your block code is correct."
   ]
  },
  {
   "cell_type": "code",
   "execution_count": null,
   "metadata": {},
   "outputs": [],
   "source": [
    "def block_validation(index, block_time, data, previous_hash):\n",
    "    new_block = Block(index, block_time, data, previous_hash)\n",
    "    check_string = '260b5039394689051b599484df495d79a6a33d22a3ca37af72656d8cdfc6fcd5'\n",
    "    print_statement = \"This is a valid Block\" if str(new_block.hash) == check_string else \"Please Check your work, this is incorrect.\"\n",
    "    print(print_statement)\n",
    "\n",
    "block_time = '2022-02-13 23:59:00'\n",
    "data = 'Blockchain For Data Science'\n",
    "previous_hash = '9136cfeb0c77b41e1e86cb9940ca9bb65f7aca4e8e366a8ecf9226b735e0c323'\n",
    "index = 1\n",
    "\n",
    "block_validation(index, block_time, data, previous_hash)"
   ]
  },
  {
   "cell_type": "markdown",
   "metadata": {},
   "source": [
    "## 2. Creating a chain out of single blocks\n",
    "Now that we have our class Block completed, we need to build a chain out of them. Define a function that creates a genesis_block(). This will generate the first block of the chain. Then create the function new_block(), which builds a new block on top of a given block.\n",
    "\n",
    "The `genesis_block()` function has `index = 0`, `timestamp = Now` (whenever the function is being called), `data = \"Genesis Block\"`, `previous_hash = \"0\"` and a `return`. Be careful with NOW function (it requires datetime from date package).\n",
    "\n",
    "`New_block()` function will take inputs:\n",
    "\n",
    "1. Last_block = an instance of class Block that is the block that we’re building our next block on top of\n",
    "2. index = index of last_block + 1\n",
    "3. timestamp = Now (whenever the function is being called)\n",
    "4. data = “Block {index} generated” (for example block w/ index 5 would have data: “Block 5 generated”)\n",
    "5. previous_hash = hash of last_block\n",
    "\n",
    "Once the function is generated, use the following code to test the validity"
   ]
  },
  {
   "cell_type": "code",
   "execution_count": null,
   "metadata": {},
   "outputs": [],
   "source": [
    "def genesis_validation(genesis_block):\n",
    "    block_1 = next_block(genesis_block)\n",
    "    if block_1.index == 1 and block_1.data == \"Block 1 generated\" and block_1.previous_hash == genesis_block.hash and str(type(block_1.timestamp)) == \"<class 'datetime.datetime'>\":\n",
    "        print(\"Valid Genesis block\" )\n",
    "    else:\n",
    "        print(\"Check the code, not a valid genesis block:(\")"
   ]
  },
  {
   "cell_type": "markdown",
   "metadata": {},
   "source": []
  },
  {
   "cell_type": "code",
   "execution_count": null,
   "metadata": {},
   "outputs": [],
   "source": []
  },
  {
   "cell_type": "markdown",
   "metadata": {},
   "source": []
  },
  {
   "cell_type": "code",
   "execution_count": null,
   "metadata": {},
   "outputs": [],
   "source": []
  }
 ],
 "metadata": {
  "kernelspec": {
   "display_name": "Python 3",
   "language": "python",
   "name": "python3"
  },
  "language_info": {
   "name": "python",
   "version": "3.9.6"
  },
  "orig_nbformat": 4
 },
 "nbformat": 4,
 "nbformat_minor": 2
}
